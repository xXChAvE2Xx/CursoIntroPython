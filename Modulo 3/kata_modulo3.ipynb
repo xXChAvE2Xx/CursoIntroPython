{
 "cells": [
  {
   "cell_type": "markdown",
   "metadata": {},
   "source": [
    "## Ejercicio - Escribir declaraciones if, else, y elif\n",
    "Imprimir una advertencia si un asteroide se acerca a la tierra demasiado rápido. Cualquier velocidad superior a 25 kilómetros por segundo (km/s) merece una advertencia. "
   ]
  },
  {
   "cell_type": "code",
   "execution_count": 1,
   "metadata": {},
   "outputs": [
    {
     "name": "stdout",
     "output_type": "stream",
     "text": [
      "Advertencia!! Un asteroide se acerca a gran velocidad a la Tierra.\n"
     ]
    }
   ],
   "source": [
    "velocidadAsteroide = 49\n",
    "if velocidadAsteroide > 25:\n",
    "    print(\"Advertencia!! Un asteroide se a cerca a gran velocidad a la Tierra.\")\n",
    "else:\n",
    "    print(\"No hay advertencias\")"
   ]
  },
  {
   "cell_type": "markdown",
   "metadata": {},
   "source": [
    "Si un asteroide entra en la atmósfera de la Tierra a una velocidad mayor o igual a 20 km/s, a veces produce un rayo de luz que se puede ver desde la Tierra. Escribe la lógica condicional que usa declaraciones if, else, y elif para alertar a las personas de todo el mundo que deben buscar un asteroide en el cielo. ¡Hay uno que se dirige a la tierra ahora a una velocidad de 19 km/s!"
   ]
  },
  {
   "cell_type": "code",
   "execution_count": null,
   "metadata": {},
   "outputs": [],
   "source": [
    "velocidadAsteroide = 19\n",
    "if velocidadAsteroide >= 20:\n",
    "    print(\"Se ve el rayo de luz.\")\n",
    "elif velocidadAsteroide == 20:\n",
    "    print(\"Se ve el rayo de luz\")\n",
    "else:\n",
    "    print(\"No se ve nada.\")"
   ]
  },
  {
   "cell_type": "markdown",
   "metadata": {},
   "source": [
    "## Ejercicio: Uso de operadores and y or"
   ]
  },
  {
   "cell_type": "code",
   "execution_count": null,
   "metadata": {},
   "outputs": [],
   "source": [
    "# Ejercicio: Uso de Operadores and y or\n",
    "velocidadAsteroide = 20\n",
    "tamAsteroide = 250\n",
    "if velocidadAsteroide > 25 and tamAsteroide > 25:\n",
    "    print(\"Advertencia!! Un asteroide muy peligroso se acerca a la tierra!!\")\n",
    "elif velocidadAsteroide >= 20:\n",
    "    print(\"Genera un rayo de luz\")\n",
    "elif tamAsteroide < 25:\n",
    "    print(\"No hay advertencias\")\n",
    "else:\n",
    "    print(\"No hay advertencias!\")"
   ]
  }
 ],
 "metadata": {
  "interpreter": {
   "hash": "b89b5cfaba6639976dc87ff2fec6d58faec662063367e2c229c520fe71072417"
  },
  "kernelspec": {
   "display_name": "Python 3.10.2 64-bit",
   "language": "python",
   "name": "python3"
  },
  "language_info": {
   "codemirror_mode": {
    "name": "ipython",
    "version": 3
   },
   "file_extension": ".py",
   "mimetype": "text/x-python",
   "name": "python",
   "nbconvert_exporter": "python",
   "pygments_lexer": "ipython3",
   "version": "3.10.2"
  },
  "orig_nbformat": 4
 },
 "nbformat": 4,
 "nbformat_minor": 2
}
