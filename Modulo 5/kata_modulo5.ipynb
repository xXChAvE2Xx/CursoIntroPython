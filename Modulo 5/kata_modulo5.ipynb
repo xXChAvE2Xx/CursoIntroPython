{
 "cells": [
  {
   "cell_type": "markdown",
   "metadata": {},
   "source": [
    "## Ejercicio1 - Utilizar operadores aritméticos"
   ]
  },
  {
   "cell_type": "code",
   "execution_count": 6,
   "metadata": {},
   "outputs": [],
   "source": [
    "## Creción de las viariables Tierra y Júpiter\n",
    "tierra = 149597870\n",
    "jupiter = 778547200 "
   ]
  },
  {
   "cell_type": "markdown",
   "metadata": {},
   "source": [
    "Obteniendo la distancia entre la Tierra y Júpiter, y convirtiendo la distancia de Kilometros a Millas."
   ]
  },
  {
   "cell_type": "code",
   "execution_count": 8,
   "metadata": {},
   "outputs": [
    {
     "name": "stdout",
     "output_type": "stream",
     "text": [
      "La distancia es 628949330 km\n",
      "La distancia en millas es 390577533.93 mi\n"
     ]
    }
   ],
   "source": [
    "distancia = jupiter - tierra\n",
    "\n",
    "print(f\"La distancia es {distancia} km\")\n",
    "##En millas\n",
    "mDistancia = distancia * 0.621\n",
    "print(f'La distancia en millas es {mDistancia} mi')"
   ]
  },
  {
   "cell_type": "markdown",
   "metadata": {},
   "source": [
    "## Ejercicio 2: convierte cadenas en números y usa valores absolutos"
   ]
  },
  {
   "cell_type": "markdown",
   "metadata": {},
   "source": [
    "Crear una aplicación para trabajar con números y entrada de usuario"
   ]
  },
  {
   "cell_type": "code",
   "execution_count": 9,
   "metadata": {},
   "outputs": [
    {
     "name": "stdout",
     "output_type": "stream",
     "text": [
      "La distancia en Kilometros es 50300000 km\n",
      "La Distancia en Millas es 31236300.0 mi\n"
     ]
    }
   ],
   "source": [
    "## Leer los datos\n",
    "planeta_1 = input(\"Ingresa la distancia del planeta 1\")\n",
    "planeta_2 = input(\"Ingresa la distancia del segundo planeta\")\n",
    "\n",
    "## Conversión del valor Str a Int\n",
    "planeta_1 = int(planeta_1)\n",
    "planeta_2 = int(planeta_2)\n",
    "\n",
    "## Calculo y conversión a valor absoluto\n",
    "dKM = abs(planeta_1 - planeta_2)\n",
    "## Conversion de Km a Mi\n",
    "dMi = dKM * 0.621\n",
    "\n",
    "print(f\"La distancia en Kilometros es {dKM} km\")\n",
    "print(f'La Distancia en Millas es {dMi} mi')"
   ]
  }
 ],
 "metadata": {
  "interpreter": {
   "hash": "b89b5cfaba6639976dc87ff2fec6d58faec662063367e2c229c520fe71072417"
  },
  "kernelspec": {
   "display_name": "Python 3.10.2 64-bit",
   "language": "python",
   "name": "python3"
  },
  "language_info": {
   "codemirror_mode": {
    "name": "ipython",
    "version": 3
   },
   "file_extension": ".py",
   "mimetype": "text/x-python",
   "name": "python",
   "nbconvert_exporter": "python",
   "pygments_lexer": "ipython3",
   "version": "3.10.2"
  },
  "orig_nbformat": 4
 },
 "nbformat": 4,
 "nbformat_minor": 2
}
