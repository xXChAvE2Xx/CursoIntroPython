{
 "cells": [
  {
   "cell_type": "markdown",
   "metadata": {},
   "source": [
    "## Ejercicio1: Crear y usar listas de Python"
   ]
  },
  {
   "cell_type": "markdown",
   "metadata": {},
   "source": [
    "##### Agregando los 8 planetas (sin Plutón) a la lista."
   ]
  },
  {
   "cell_type": "code",
   "execution_count": 11,
   "metadata": {},
   "outputs": [
    {
     "name": "stdout",
     "output_type": "stream",
     "text": [
      "['Marcurio', 'Venus', 'Tierra', 'Marte', 'Júpiter', 'Saturno', 'Urano', 'Neptuno']\n"
     ]
    }
   ],
   "source": [
    "planets = ['Marcurio', 'Venus', 'Tierra', 'Marte', 'Júpiter', 'Saturno', 'Urano', 'Neptuno']\n",
    "print(planets)"
   ]
  },
  {
   "cell_type": "markdown",
   "metadata": {},
   "source": [
    "##### Agregando Plúton a la lista, mostrando el ultimo y el numero de planetas que se encuentran en la lista."
   ]
  },
  {
   "cell_type": "code",
   "execution_count": 12,
   "metadata": {},
   "outputs": [
    {
     "name": "stdout",
     "output_type": "stream",
     "text": [
      "El número de planetas que hay en la lista es: 9\n",
      "El último planeta es: Plúton\n"
     ]
    }
   ],
   "source": [
    "# Con la función append() se agrega un nuevo item en la lista.\n",
    "planets.append('Plúton')\n",
    "\n",
    "print(f\"El número de planetas que hay en la lista es: {len(planets)}\")\n",
    "print(f\"El último planeta es: { planets[-1]}\")"
   ]
  },
  {
   "cell_type": "markdown",
   "metadata": {},
   "source": [
    "## Ejercicio 2: Trabajando con datos de una lista"
   ]
  },
  {
   "cell_type": "code",
   "execution_count": 13,
   "metadata": {},
   "outputs": [
    {
     "name": "stdout",
     "output_type": "stream",
     "text": [
      "El planeta mas cercano es: ['Mercury', 'Venus', 'Earth', 'Mars', 'Jupiter']\n",
      "El planeta mas lejano es: ['Neptune']\n"
     ]
    }
   ],
   "source": [
    "# Lista de planetas\n",
    "planets = ['Mercury', 'Venus', 'Earth', 'Mars', 'Jupiter', 'Saturn', 'Neptune']\n",
    "\n",
    "# Pidiendo al usuario el planeta\n",
    "name = input(\"Buscar planeta: (Inicia con la primer letra en mayúscula) --> \")\n",
    "\n",
    "# Buscando lel planeta en la lista\n",
    "index_planet = planets.index(name)\n",
    "\n",
    "#Mostrando el planeta mas cercano\n",
    "print(f\"El planeta mas cercano es: {planets[0:index_planet]}\")\n",
    "\n",
    "#MOstrabdo el planeta mas lejano\n",
    "print(f\"El planeta mas lejano es: {planets[index_planet + 1:]}\")\n",
    "\n",
    "\n"
   ]
  }
 ],
 "metadata": {
  "interpreter": {
   "hash": "b89b5cfaba6639976dc87ff2fec6d58faec662063367e2c229c520fe71072417"
  },
  "kernelspec": {
   "display_name": "Python 3.10.2 64-bit",
   "language": "python",
   "name": "python3"
  },
  "language_info": {
   "codemirror_mode": {
    "name": "ipython",
    "version": 3
   },
   "file_extension": ".py",
   "mimetype": "text/x-python",
   "name": "python",
   "nbconvert_exporter": "python",
   "pygments_lexer": "ipython3",
   "version": "3.10.2"
  },
  "orig_nbformat": 4
 },
 "nbformat": 4,
 "nbformat_minor": 2
}
