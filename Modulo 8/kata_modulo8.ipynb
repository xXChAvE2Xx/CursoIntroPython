{
 "cells": [
  {
   "cell_type": "markdown",
   "metadata": {},
   "source": [
    "## Ejercicio 1: Creación de diccionarios de Python"
   ]
  },
  {
   "cell_type": "code",
   "execution_count": 12,
   "metadata": {},
   "outputs": [
    {
     "name": "stdout",
     "output_type": "stream",
     "text": [
      "El planeta Mars cuenta con 2 lunas\n",
      "{'name': 'Mars', 'moons': 2, 'circunferencia': {'polar': 6752, 'equatorial': 6792}}\n",
      "El planeta Mars cuenta con 2 lunas y tiene una circuferencia de 6752\n"
     ]
    }
   ],
   "source": [
    "# Creación del diccionario planet\n",
    "planet = {\n",
    "    'name': 'Mars',\n",
    "    'moons': 2\n",
    "}\n",
    "\n",
    "#Recuperando datos del diccionario planet\n",
    "\n",
    "#Opcion 1\n",
    "#print(f\"El planeta {planet.get('name')} cuenta con {planet.get('moons')} lunas\")\n",
    "\n",
    "#Opcion 2\n",
    "print(f\"El planeta {planet['name']} cuenta con {planet['moons']} lunas\")\n",
    "\n",
    "# Agregando la circuferencia\n",
    "#Opcion 1\n",
    "planet['circunferencia']={\n",
    "    'polar': 6752,\n",
    "    'equatorial': 6792\n",
    "}\n",
    "\n",
    "#print(planet)\n",
    "\n",
    "print(f\"El planeta {planet['name']} cuenta con {planet['moons']} lunas y tiene una circuferencia de {planet['circunferencia']['polar']}\")\n"
   ]
  },
  {
   "cell_type": "markdown",
   "metadata": {},
   "source": [
    "## Ejercicio 2: Programación dinámica con diccionarios"
   ]
  },
  {
   "cell_type": "code",
   "execution_count": 17,
   "metadata": {},
   "outputs": [
    {
     "name": "stdout",
     "output_type": "stream",
     "text": [
      "El promedio de lunas es: 17.833333333333332\n"
     ]
    }
   ],
   "source": [
    "# Planets and moons\n",
    "\n",
    "planet_moons = {\n",
    "    'mercury': 0,\n",
    "    'venus': 0,\n",
    "    'earth': 1,\n",
    "    'mars': 2,\n",
    "    'jupiter': 79,\n",
    "    'saturn': 82,\n",
    "    'uranus': 27,\n",
    "    'neptune': 14,\n",
    "    'pluto': 5,\n",
    "    'haumea': 2,\n",
    "    'makemake': 1,\n",
    "    'eris': 1\n",
    "}\n",
    "\n",
    "# Añade el código para determinar el número de lunas. #\n",
    "moons = planet_moons.values() # Almacenamos solo el valor\n",
    "\n",
    "# Agrega el código para contar el número de lunas. \n",
    "planets =  len(planet_moons.keys()) # Con len() obtenemos el numero de planetas\n",
    "\n",
    "#print(moons)\n",
    "#print(planets)\n",
    "\n",
    "total_moons = 0\n",
    "for moon in moons:\n",
    "    total_moons = total_moons + moon\n",
    "\n",
    "prom = total_moons / planets # Obteniendo el promedio\n",
    "\n",
    "print(f'El promedio de lunas es: {prom}')\n",
    "\n",
    "\n",
    "\n"
   ]
  }
 ],
 "metadata": {
  "interpreter": {
   "hash": "b89b5cfaba6639976dc87ff2fec6d58faec662063367e2c229c520fe71072417"
  },
  "kernelspec": {
   "display_name": "Python 3.10.2 64-bit",
   "language": "python",
   "name": "python3"
  },
  "language_info": {
   "codemirror_mode": {
    "name": "ipython",
    "version": 3
   },
   "file_extension": ".py",
   "mimetype": "text/x-python",
   "name": "python",
   "nbconvert_exporter": "python",
   "pygments_lexer": "ipython3",
   "version": "3.10.2"
  },
  "orig_nbformat": 4
 },
 "nbformat": 4,
 "nbformat_minor": 2
}
