{
 "cells": [
  {
   "cell_type": "markdown",
   "metadata": {},
   "source": [
    "## Ejercicio: Uso de funciones en Python"
   ]
  },
  {
   "cell_type": "code",
   "execution_count": 14,
   "metadata": {},
   "outputs": [
    {
     "name": "stdout",
     "output_type": "stream",
     "text": [
      "\n",
      "    Reporte de Combustible:\n",
      "    Tanque 1: 80 %\n",
      "    Tanque 2: 90 % \n",
      "    Tanque 3: 100 %\n",
      "    Primedio de combustible: 90.0 %\n",
      "    \n"
     ]
    }
   ],
   "source": [
    "#Funcion que realiza el calculo del promedio\n",
    "def prom(values):\n",
    "    suma = sum(values)\n",
    "    tamaño = len(values)\n",
    "    promedio = suma / tamaño\n",
    "    return promedio\n",
    "\n",
    "    \n",
    "# Función para leer 3 tanques de combustible y muestre el promedio\n",
    "def informe(tanque1, tanque2, tanque3):\n",
    "    #prom = (tanque1 + tanque2 + tanque3)/3\n",
    "    p = prom([tanque1, tanque2, tanque3])\n",
    "\n",
    "    return f\"\"\"\n",
    "    Reporte de Combustible:\n",
    "    Tanque 1: {tanque1} %\n",
    "    Tanque 2: {tanque2} % \n",
    "    Tanque 3: {tanque3} %\n",
    "    Primedio de combustible: {p} %\n",
    "    \"\"\"\n",
    "\n",
    "print(informe(80, 90, 100))"
   ]
  },
  {
   "cell_type": "markdown",
   "metadata": {},
   "source": [
    "## Ejercicio 2: Trabajo con argumentos de palabra clave"
   ]
  },
  {
   "cell_type": "code",
   "execution_count": 20,
   "metadata": {},
   "outputs": [
    {
     "name": "stdout",
     "output_type": "stream",
     "text": [
      "\n",
      "    Hora de prelanzamiento: 20 hrs.\n",
      "    Tiempo de Vuelo: 152\n",
      "    Destino: Marte\n",
      "    Tanque externo: 4521 litros\n",
      "    Tanque Interno: 8569 litros\n",
      "    \n",
      "\n",
      "    Destino: Marte\n",
      "    Tiempo total de viaje estimado: 118 minutos\n",
      "    Total de combustible: 186 litros\n",
      "    Tanques:\n",
      "    tanque_1 contiene 20 L \n",
      "tanque_2 contiene 76 L \n",
      "tanque_3 contiene 90 L \n",
      "\n"
     ]
    }
   ],
   "source": [
    "def informePreciso(hora_prelanzamiento, tiempo_vuelo, destino, tanque_externo, tanque_interno):\n",
    "    return f\"\"\"\n",
    "    Hora de prelanzamiento: {hora_prelanzamiento} hrs.\n",
    "    Tiempo de Vuelo: {tiempo_vuelo}\n",
    "    Destino: {destino}\n",
    "    Tanque externo: {tanque_externo} litros\n",
    "    Tanque Interno: {tanque_interno} litros\n",
    "    \"\"\"\n",
    "\n",
    "print(informePreciso(20,152,\"Marte\", 4521, 8569))\n",
    "\n",
    "#Creación de la función mas flexible\n",
    "def informeFlexible(destino, *minutos, **reservas_combustible):\n",
    "    sumaMinutos = sum(minutos) \n",
    "    sumaCombutible = sum(reservas_combustible.values())\n",
    "\n",
    "    msg = f\"\"\"\n",
    "    Destino: {destino}\n",
    "    Tiempo total de viaje estimado: {sumaMinutos} minutos\n",
    "    Total de combustible: {sumaCombutible} litros\n",
    "    Tanques:\n",
    "    \"\"\"\n",
    "\n",
    "    for nombreT, litros in reservas_combustible.items():\n",
    "        msg += f\"{nombreT} contiene {litros} L \\n\"\n",
    "    \n",
    "    return msg\n",
    "\n",
    "print(informeFlexible(\"Marte\", 10, 25, 36, 47, tanque_1=20, tanque_2=76, tanque_3=90))"
   ]
  }
 ],
 "metadata": {
  "interpreter": {
   "hash": "b89b5cfaba6639976dc87ff2fec6d58faec662063367e2c229c520fe71072417"
  },
  "kernelspec": {
   "display_name": "Python 3.10.2 64-bit",
   "language": "python",
   "name": "python3"
  },
  "language_info": {
   "codemirror_mode": {
    "name": "ipython",
    "version": 3
   },
   "file_extension": ".py",
   "mimetype": "text/x-python",
   "name": "python",
   "nbconvert_exporter": "python",
   "pygments_lexer": "ipython3",
   "version": "3.10.2"
  },
  "orig_nbformat": 4
 },
 "nbformat": 4,
 "nbformat_minor": 2
}
